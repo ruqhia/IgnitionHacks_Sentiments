{
  "nbformat": 4,
  "nbformat_minor": 0,
  "metadata": {
    "colab": {
      "name": "Copy of Hack.ipynb",
      "provenance": [],
      "collapsed_sections": []
    },
    "kernelspec": {
      "name": "python3",
      "display_name": "Python 3"
    }
  },
  "cells": [
    {
      "cell_type": "code",
      "metadata": {
        "id": "80zCv-185LLk",
        "colab_type": "code",
        "colab": {}
      },
      "source": [
        "columns_titles = [\"ID\",\t\"User\",\t\"Text\",\t\"Sentiment\",\t\"lowercase\",\t\"split\", \"token\",\t\"contraceptions\",\t\"noPunctuation\",\"nostop\"]\n",
        "\n",
        "df_reorder=df.reindex(columns=columns_titles)\n",
        "#df = df_reorder"
      ],
      "execution_count": 202,
      "outputs": []
    },
    {
      "cell_type": "markdown",
      "metadata": {
        "id": "tmn47E3nXJ3f",
        "colab_type": "text"
      },
      "source": [
        "#Baseline Model"
      ]
    },
    {
      "cell_type": "markdown",
      "metadata": {
        "id": "BkMIHqPejJdM",
        "colab_type": "text"
      },
      "source": [
        "The baseline model is a simple model that can be used for making predictions. The baseline accuracy is the metric that's used to compare the performance of the actual algorithm. The base line model that I have used is the model from the demo that was provided."
      ]
    },
    {
      "cell_type": "code",
      "metadata": {
        "id": "LmdGUzZfQmp3",
        "colab_type": "code",
        "colab": {}
      },
      "source": [
        "#Load the libraries\n",
        "import numpy as np\n",
        "from sklearn import svm\n",
        "import pandas as pd\n",
        "import matplotlib.pyplot as plt\n",
        "import nltk\n",
        "from sklearn.feature_extraction.text import CountVectorizer\n",
        "from sklearn.feature_extraction.text import TfidfVectorizer\n",
        "from sklearn.preprocessing import LabelBinarizer\n",
        "from nltk.tokenize import word_tokenize,sent_tokenize\n",
        "import re,string,unicodedata\n",
        "from nltk.tokenize.toktok import ToktokTokenizer\n",
        "from sklearn.linear_model import LogisticRegression,SGDClassifier\n",
        "from sklearn.naive_bayes import MultinomialNB\n",
        "from sklearn.svm import SVC\n",
        "from sklearn.metrics import classification_report,confusion_matrix,accuracy_score\n",
        "from sklearn.model_selection import train_test_split\n",
        "from google.colab import files\n",
        "import io"
      ],
      "execution_count": 2,
      "outputs": []
    },
    {
      "cell_type": "code",
      "metadata": {
        "id": "SsszT4Q8Xi4I",
        "colab_type": "code",
        "colab": {
          "resources": {
            "http://localhost:8080/nbextensions/google.colab/files.js": {
              "data": "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",
              "ok": true,
              "headers": [
                [
                  "content-type",
                  "application/javascript"
                ]
              ],
              "status": 200,
              "status_text": ""
            }
          },
          "base_uri": "https://localhost:8080/",
          "height": 73
        },
        "outputId": "26a85ac5-8518-46e3-b0f0-86386adbd8ef"
      },
      "source": [
        "data_to_load = files.upload()\n",
        "df = pd.read_csv(io.BytesIO(data_to_load['training_data (1).csv']))"
      ],
      "execution_count": 3,
      "outputs": [
        {
          "output_type": "display_data",
          "data": {
            "text/html": [
              "\n",
              "     <input type=\"file\" id=\"files-32afdca8-6f4a-40e6-bffe-a2dd57bd9f15\" name=\"files[]\" multiple disabled\n",
              "        style=\"border:none\" />\n",
              "     <output id=\"result-32afdca8-6f4a-40e6-bffe-a2dd57bd9f15\">\n",
              "      Upload widget is only available when the cell has been executed in the\n",
              "      current browser session. Please rerun this cell to enable.\n",
              "      </output>\n",
              "      <script src=\"/nbextensions/google.colab/files.js\"></script> "
            ],
            "text/plain": [
              "<IPython.core.display.HTML object>"
            ]
          },
          "metadata": {
            "tags": []
          }
        },
        {
          "output_type": "stream",
          "text": [
            "Saving training_data (1).csv to training_data (1).csv\n"
          ],
          "name": "stdout"
        }
      ]
    },
    {
      "cell_type": "code",
      "metadata": {
        "id": "U2ntrIteXmWW",
        "colab_type": "code",
        "colab": {
          "base_uri": "https://localhost:8080/",
          "height": 194
        },
        "outputId": "b67dcea3-f652-40f2-9721-1df3afac1d7f"
      },
      "source": [
        "#prints top few samples the dataset\n",
        "df.head()"
      ],
      "execution_count": null,
      "outputs": [
        {
          "output_type": "execute_result",
          "data": {
            "text/html": [
              "<div>\n",
              "<style scoped>\n",
              "    .dataframe tbody tr th:only-of-type {\n",
              "        vertical-align: middle;\n",
              "    }\n",
              "\n",
              "    .dataframe tbody tr th {\n",
              "        vertical-align: top;\n",
              "    }\n",
              "\n",
              "    .dataframe thead th {\n",
              "        text-align: right;\n",
              "    }\n",
              "</style>\n",
              "<table border=\"1\" class=\"dataframe\">\n",
              "  <thead>\n",
              "    <tr style=\"text-align: right;\">\n",
              "      <th></th>\n",
              "      <th>ID</th>\n",
              "      <th>User</th>\n",
              "      <th>Text</th>\n",
              "      <th>Sentiment</th>\n",
              "    </tr>\n",
              "  </thead>\n",
              "  <tbody>\n",
              "    <tr>\n",
              "      <th>0</th>\n",
              "      <td>864192</td>\n",
              "      <td>Carly_FTS</td>\n",
              "      <td>I *heart* filling up @dennisschaub desk   1 it...</td>\n",
              "      <td>1</td>\n",
              "    </tr>\n",
              "    <tr>\n",
              "      <th>1</th>\n",
              "      <td>523691</td>\n",
              "      <td>Open_Sourcing</td>\n",
              "      <td>#SocioMat - people create prettier, younger an...</td>\n",
              "      <td>1</td>\n",
              "    </tr>\n",
              "    <tr>\n",
              "      <th>2</th>\n",
              "      <td>584154</td>\n",
              "      <td>xxcharlx</td>\n",
              "      <td>no way i dont want the tour to end</td>\n",
              "      <td>0</td>\n",
              "    </tr>\n",
              "    <tr>\n",
              "      <th>3</th>\n",
              "      <td>1527961</td>\n",
              "      <td>andreapuddu</td>\n",
              "      <td>@HemalRadia Hi Amazing Brother! Sending Limitl...</td>\n",
              "      <td>1</td>\n",
              "    </tr>\n",
              "    <tr>\n",
              "      <th>4</th>\n",
              "      <td>28609</td>\n",
              "      <td>umbec</td>\n",
              "      <td>@flockmaster they are chocolate</td>\n",
              "      <td>1</td>\n",
              "    </tr>\n",
              "  </tbody>\n",
              "</table>\n",
              "</div>"
            ],
            "text/plain": [
              "        ID  ... Sentiment\n",
              "0   864192  ...         1\n",
              "1   523691  ...         1\n",
              "2   584154  ...         0\n",
              "3  1527961  ...         1\n",
              "4    28609  ...         1\n",
              "\n",
              "[5 rows x 4 columns]"
            ]
          },
          "metadata": {
            "tags": []
          },
          "execution_count": 104
        }
      ]
    },
    {
      "cell_type": "code",
      "metadata": {
        "id": "GKvDM8VSXoTo",
        "colab_type": "code",
        "colab": {
          "base_uri": "https://localhost:8080/",
          "height": 35
        },
        "outputId": "09ce7023-ccf5-4d42-eb10-ca5a7b2c8eb3"
      },
      "source": [
        "df.shape"
      ],
      "execution_count": null,
      "outputs": [
        {
          "output_type": "execute_result",
          "data": {
            "text/plain": [
              "(1000000, 4)"
            ]
          },
          "metadata": {
            "tags": []
          },
          "execution_count": 105
        }
      ]
    },
    {
      "cell_type": "code",
      "metadata": {
        "id": "nQg7c7JdXq_p",
        "colab_type": "code",
        "colab": {}
      },
      "source": [
        "# Used to split the data into training and testing sets\n",
        "x_train, x_test, y_train, y_test = train_test_split(df.Text,df.Sentiment,test_size=0.33,random_state=42) #splitting the dataset into training and testing"
      ],
      "execution_count": null,
      "outputs": []
    },
    {
      "cell_type": "code",
      "metadata": {
        "id": "6qxR4dkDXs-k",
        "colab_type": "code",
        "colab": {
          "base_uri": "https://localhost:8080/",
          "height": 52
        },
        "outputId": "5d1286ba-9320-46a8-9f85-151402bd04f6"
      },
      "source": [
        "#check the dimensions\n",
        "print(\"Number of training samples: {}\".format(x_train.shape[0]))\n",
        "print(\"Number of testing samples: {}\".format(x_test.shape[0])) "
      ],
      "execution_count": null,
      "outputs": [
        {
          "output_type": "stream",
          "text": [
            "Number of training samples: 670000\n",
            "Number of testing samples: 330000\n"
          ],
          "name": "stdout"
        }
      ]
    },
    {
      "cell_type": "code",
      "metadata": {
        "id": "1D4-KUrgXuv3",
        "colab_type": "code",
        "colab": {}
      },
      "source": [
        "#bag of words model to convert text to numbers\n",
        "cv=CountVectorizer(binary=False)\n"
      ],
      "execution_count": null,
      "outputs": []
    },
    {
      "cell_type": "code",
      "metadata": {
        "id": "T_g-H_vZXw0o",
        "colab_type": "code",
        "colab": {}
      },
      "source": [
        "#transformed train reviews\n",
        "train_reviews = cv.fit_transform(x_train)\n",
        "#transformed test reviews\n",
        "test_reviews = cv.transform(x_test)"
      ],
      "execution_count": null,
      "outputs": []
    },
    {
      "cell_type": "code",
      "metadata": {
        "id": "bS4mADy6X2Im",
        "colab_type": "code",
        "colab": {
          "base_uri": "https://localhost:8080/",
          "height": 248
        },
        "outputId": "5ef15bba-070c-462d-84b4-bfed06b070a4"
      },
      "source": [
        "#The data preparation is done, steps below prepare a sample model\n",
        "#preparing the model\n",
        "lr=LogisticRegression()\n",
        "#training the model for Bag of words\n",
        "lr_bow=lr.fit(train_reviews,y_train)\n",
        "print(lr_bow)"
      ],
      "execution_count": null,
      "outputs": [
        {
          "output_type": "stream",
          "text": [
            "LogisticRegression(C=1.0, class_weight=None, dual=False, fit_intercept=True,\n",
            "                   intercept_scaling=1, l1_ratio=None, max_iter=100,\n",
            "                   multi_class='auto', n_jobs=None, penalty='l2',\n",
            "                   random_state=None, solver='lbfgs', tol=0.0001, verbose=0,\n",
            "                   warm_start=False)\n"
          ],
          "name": "stdout"
        },
        {
          "output_type": "stream",
          "text": [
            "/usr/local/lib/python3.6/dist-packages/sklearn/linear_model/_logistic.py:940: ConvergenceWarning: lbfgs failed to converge (status=1):\n",
            "STOP: TOTAL NO. of ITERATIONS REACHED LIMIT.\n",
            "\n",
            "Increase the number of iterations (max_iter) or scale the data as shown in:\n",
            "    https://scikit-learn.org/stable/modules/preprocessing.html\n",
            "Please also refer to the documentation for alternative solver options:\n",
            "    https://scikit-learn.org/stable/modules/linear_model.html#logistic-regression\n",
            "  extra_warning_msg=_LOGISTIC_SOLVER_CONVERGENCE_MSG)\n"
          ],
          "name": "stderr"
        }
      ]
    },
    {
      "cell_type": "code",
      "metadata": {
        "id": "bHFEZy1bX4LM",
        "colab_type": "code",
        "colab": {
          "base_uri": "https://localhost:8080/",
          "height": 35
        },
        "outputId": "1db087ae-6155-467d-a52e-af94588d7a93"
      },
      "source": [
        "#Accuracy score for bag of words\n",
        "lr_bow_predict = lr.predict(test_reviews)\n",
        "lr_bow_score = accuracy_score(y_test,lr_bow_predict)\n",
        "print(\"lr_bow_score :\",lr_bow_score)"
      ],
      "execution_count": null,
      "outputs": [
        {
          "output_type": "stream",
          "text": [
            "lr_bow_score : 0.7970333333333334\n"
          ],
          "name": "stdout"
        }
      ]
    },
    {
      "cell_type": "markdown",
      "metadata": {
        "id": "1rGVO2RIj-Ea",
        "colab_type": "text"
      },
      "source": [
        "The accuracy from the baseline model is 79%. The real model/algorithm should be higher since in this model we have not preprocessed the data in any way."
      ]
    },
    {
      "cell_type": "markdown",
      "metadata": {
        "id": "H36Mz9j0cwkT",
        "colab_type": "text"
      },
      "source": [
        "#Method 1 - Scikit Learn\n",
        "\n",
        "\n"
      ]
    },
    {
      "cell_type": "markdown",
      "metadata": {
        "id": "eQofM_7_Nl5T",
        "colab_type": "text"
      },
      "source": [
        "For the Scikit Learn the model that I have used are SVM and Logistic regression. They are a popular choice when doing sentiment analysis and are known to achieve faily high accuracies as well. The part that's different from the baseline model is that in this model there preprocessing of data. Here is an overview of the steps that I have taken:\n",
        "![image.png](data:image/png;base64,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)"
      ]
    },
    {
      "cell_type": "markdown",
      "metadata": {
        "id": "MoLouOi_FACY",
        "colab_type": "text"
      },
      "source": [
        "**1.NER-removing of names/places/countries etc.**"
      ]
    },
    {
      "cell_type": "markdown",
      "metadata": {
        "id": "4X2OYj4ceh4g",
        "colab_type": "text"
      },
      "source": [
        "Removing names,places, countries etc is useful in sentiment analysis since these words do not add much value to the sematic meaning behind the text. This step is done before all the steps since the capitilization and grammer matter while categorizing the words. I used the Spacy library to categorize the words into different groups such as name, countries, organization etc. Then I checked the label of each word and removed the ones that will not aid in sentiment analysis."
      ]
    },
    {
      "cell_type": "code",
      "metadata": {
        "id": "NbYWBsmlEzaN",
        "colab_type": "code",
        "colab": {}
      },
      "source": [
        "import spacy"
      ],
      "execution_count": 5,
      "outputs": []
    },
    {
      "cell_type": "code",
      "metadata": {
        "id": "Rqsw3H_ZE_OV",
        "colab_type": "code",
        "colab": {
          "base_uri": "https://localhost:8080/",
          "height": 106
        },
        "outputId": "86bdac12-5114-4c8c-cb46-07cf4e2941e5"
      },
      "source": [
        "nlp = spacy.load('en_core_web_sm') \n",
        "  \n",
        "df['ner'] = df['Text']\n",
        "def NER(sentence):\n",
        "  doc = nlp(sentence) \n",
        "  #sentence = sentence.split()\n",
        "  for ent in doc.ents: \n",
        "    # Removing names, countries, money, nationalities \n",
        "    if(ent.label_==\"PERSON\" or  ent.label==\"GPE\" or ent.label==\"MONEY\" or ent.label==\"NORP\" or ent.label==\"LOC\" or ent.label==\"ORG\" ):\n",
        "      sentence = sentence.replace(str(ent),\"\")  \n",
        "  return sentence\n",
        "\n",
        "size = len(df['ID'])\n",
        "for i in range(size):\n",
        "  df['ner'][i]=NER(df['Text'][i])\n",
        "\n"
      ],
      "execution_count": 6,
      "outputs": [
        {
          "output_type": "stream",
          "text": [
            "/usr/local/lib/python3.6/dist-packages/ipykernel_launcher.py:15: SettingWithCopyWarning: \n",
            "A value is trying to be set on a copy of a slice from a DataFrame\n",
            "\n",
            "See the caveats in the documentation: https://pandas.pydata.org/pandas-docs/stable/user_guide/indexing.html#returning-a-view-versus-a-copy\n",
            "  from ipykernel import kernelapp as app\n"
          ],
          "name": "stderr"
        }
      ]
    },
    {
      "cell_type": "code",
      "metadata": {
        "id": "4r7tqbxBE3am",
        "colab_type": "code",
        "colab": {
          "base_uri": "https://localhost:8080/",
          "height": 194
        },
        "outputId": "8cd964bc-b0f8-4913-8f29-8a8a825549eb"
      },
      "source": [
        "df.head()"
      ],
      "execution_count": 7,
      "outputs": [
        {
          "output_type": "execute_result",
          "data": {
            "text/html": [
              "<div>\n",
              "<style scoped>\n",
              "    .dataframe tbody tr th:only-of-type {\n",
              "        vertical-align: middle;\n",
              "    }\n",
              "\n",
              "    .dataframe tbody tr th {\n",
              "        vertical-align: top;\n",
              "    }\n",
              "\n",
              "    .dataframe thead th {\n",
              "        text-align: right;\n",
              "    }\n",
              "</style>\n",
              "<table border=\"1\" class=\"dataframe\">\n",
              "  <thead>\n",
              "    <tr style=\"text-align: right;\">\n",
              "      <th></th>\n",
              "      <th>ID</th>\n",
              "      <th>User</th>\n",
              "      <th>Text</th>\n",
              "      <th>Sentiment</th>\n",
              "      <th>ner</th>\n",
              "    </tr>\n",
              "  </thead>\n",
              "  <tbody>\n",
              "    <tr>\n",
              "      <th>0</th>\n",
              "      <td>864192</td>\n",
              "      <td>Carly_FTS</td>\n",
              "      <td>I *heart* filling up @dennisschaub desk   1 it...</td>\n",
              "      <td>1</td>\n",
              "      <td>I *heart* filling up @dennisschaub desk   1 it...</td>\n",
              "    </tr>\n",
              "    <tr>\n",
              "      <th>1</th>\n",
              "      <td>523691</td>\n",
              "      <td>Open_Sourcing</td>\n",
              "      <td>#SocioMat - people create prettier, younger an...</td>\n",
              "      <td>1</td>\n",
              "      <td># - people create prettier, younger and better...</td>\n",
              "    </tr>\n",
              "    <tr>\n",
              "      <th>2</th>\n",
              "      <td>584154</td>\n",
              "      <td>xxcharlx</td>\n",
              "      <td>no way i dont want the tour to end</td>\n",
              "      <td>0</td>\n",
              "      <td>no way i dont want the tour to end</td>\n",
              "    </tr>\n",
              "    <tr>\n",
              "      <th>3</th>\n",
              "      <td>1527961</td>\n",
              "      <td>andreapuddu</td>\n",
              "      <td>@HemalRadia Hi Amazing Brother! Sending Limitl...</td>\n",
              "      <td>1</td>\n",
              "      <td>@HemalRadia Hi Amazing Brother!  (((Love))) Yo...</td>\n",
              "    </tr>\n",
              "    <tr>\n",
              "      <th>4</th>\n",
              "      <td>28609</td>\n",
              "      <td>umbec</td>\n",
              "      <td>@flockmaster they are chocolate</td>\n",
              "      <td>1</td>\n",
              "      <td>@flockmaster they are chocolate</td>\n",
              "    </tr>\n",
              "  </tbody>\n",
              "</table>\n",
              "</div>"
            ],
            "text/plain": [
              "        ID  ...                                                ner\n",
              "0   864192  ...  I *heart* filling up @dennisschaub desk   1 it...\n",
              "1   523691  ...  # - people create prettier, younger and better...\n",
              "2   584154  ...                no way i dont want the tour to end \n",
              "3  1527961  ...  @HemalRadia Hi Amazing Brother!  (((Love))) Yo...\n",
              "4    28609  ...                   @flockmaster they are chocolate \n",
              "\n",
              "[5 rows x 5 columns]"
            ]
          },
          "metadata": {
            "tags": []
          },
          "execution_count": 7
        }
      ]
    },
    {
      "cell_type": "markdown",
      "metadata": {
        "id": "nuHHOOjlsKLI",
        "colab_type": "text"
      },
      "source": [
        "**2. Convert all upper case letters in sentences to lower case**"
      ]
    },
    {
      "cell_type": "markdown",
      "metadata": {
        "id": "fbPQz1UTfzDH",
        "colab_type": "text"
      },
      "source": [
        "This step is needed for other preprocessing steps below"
      ]
    },
    {
      "cell_type": "code",
      "metadata": {
        "id": "SwXAzkNfjkFs",
        "colab_type": "code",
        "colab": {}
      },
      "source": [
        "\n",
        "df['lowercase'] = df['ner'].apply(lambda x: \" \".join(word.lower() for word in x.split()))"
      ],
      "execution_count": 8,
      "outputs": []
    },
    {
      "cell_type": "code",
      "metadata": {
        "id": "N6l2q2ENlQ4x",
        "colab_type": "code",
        "colab": {
          "base_uri": "https://localhost:8080/",
          "height": 194
        },
        "outputId": "06f2e50a-74c2-4af9-c3ec-40717bc83fb4"
      },
      "source": [
        "df.head()"
      ],
      "execution_count": 9,
      "outputs": [
        {
          "output_type": "execute_result",
          "data": {
            "text/html": [
              "<div>\n",
              "<style scoped>\n",
              "    .dataframe tbody tr th:only-of-type {\n",
              "        vertical-align: middle;\n",
              "    }\n",
              "\n",
              "    .dataframe tbody tr th {\n",
              "        vertical-align: top;\n",
              "    }\n",
              "\n",
              "    .dataframe thead th {\n",
              "        text-align: right;\n",
              "    }\n",
              "</style>\n",
              "<table border=\"1\" class=\"dataframe\">\n",
              "  <thead>\n",
              "    <tr style=\"text-align: right;\">\n",
              "      <th></th>\n",
              "      <th>ID</th>\n",
              "      <th>User</th>\n",
              "      <th>Text</th>\n",
              "      <th>Sentiment</th>\n",
              "      <th>ner</th>\n",
              "      <th>lowercase</th>\n",
              "    </tr>\n",
              "  </thead>\n",
              "  <tbody>\n",
              "    <tr>\n",
              "      <th>0</th>\n",
              "      <td>864192</td>\n",
              "      <td>Carly_FTS</td>\n",
              "      <td>I *heart* filling up @dennisschaub desk   1 it...</td>\n",
              "      <td>1</td>\n",
              "      <td>I *heart* filling up @dennisschaub desk   1 it...</td>\n",
              "      <td>i *heart* filling up @dennisschaub desk 1 it m...</td>\n",
              "    </tr>\n",
              "    <tr>\n",
              "      <th>1</th>\n",
              "      <td>523691</td>\n",
              "      <td>Open_Sourcing</td>\n",
              "      <td>#SocioMat - people create prettier, younger an...</td>\n",
              "      <td>1</td>\n",
              "      <td># - people create prettier, younger and better...</td>\n",
              "      <td># - people create prettier, younger and better...</td>\n",
              "    </tr>\n",
              "    <tr>\n",
              "      <th>2</th>\n",
              "      <td>584154</td>\n",
              "      <td>xxcharlx</td>\n",
              "      <td>no way i dont want the tour to end</td>\n",
              "      <td>0</td>\n",
              "      <td>no way i dont want the tour to end</td>\n",
              "      <td>no way i dont want the tour to end</td>\n",
              "    </tr>\n",
              "    <tr>\n",
              "      <th>3</th>\n",
              "      <td>1527961</td>\n",
              "      <td>andreapuddu</td>\n",
              "      <td>@HemalRadia Hi Amazing Brother! Sending Limitl...</td>\n",
              "      <td>1</td>\n",
              "      <td>@HemalRadia Hi Amazing Brother!  (((Love))) Yo...</td>\n",
              "      <td>@hemalradia hi amazing brother! (((love))) you...</td>\n",
              "    </tr>\n",
              "    <tr>\n",
              "      <th>4</th>\n",
              "      <td>28609</td>\n",
              "      <td>umbec</td>\n",
              "      <td>@flockmaster they are chocolate</td>\n",
              "      <td>1</td>\n",
              "      <td>@flockmaster they are chocolate</td>\n",
              "      <td>@flockmaster they are chocolate</td>\n",
              "    </tr>\n",
              "  </tbody>\n",
              "</table>\n",
              "</div>"
            ],
            "text/plain": [
              "        ID  ...                                          lowercase\n",
              "0   864192  ...  i *heart* filling up @dennisschaub desk 1 it m...\n",
              "1   523691  ...  # - people create prettier, younger and better...\n",
              "2   584154  ...                 no way i dont want the tour to end\n",
              "3  1527961  ...  @hemalradia hi amazing brother! (((love))) you...\n",
              "4    28609  ...                    @flockmaster they are chocolate\n",
              "\n",
              "[5 rows x 6 columns]"
            ]
          },
          "metadata": {
            "tags": []
          },
          "execution_count": 9
        }
      ]
    },
    {
      "cell_type": "markdown",
      "metadata": {
        "id": "zPR0FxCZ_tE2",
        "colab_type": "text"
      },
      "source": [
        "**3.Replace contractions with base words**"
      ]
    },
    {
      "cell_type": "markdown",
      "metadata": {
        "id": "-IlzUeZzf5fX",
        "colab_type": "text"
      },
      "source": [
        "This stepm replaces contractions with their base words so don't will be replaced with do not. This useful for text standadization and this also removes words with similiar meaning."
      ]
    },
    {
      "cell_type": "code",
      "metadata": {
        "id": "cE25zliQ_0Tt",
        "colab_type": "code",
        "colab": {
          "base_uri": "https://localhost:8080/",
          "height": 319
        },
        "outputId": "6812a68c-933a-429c-a727-eeb40d1c24d7"
      },
      "source": [
        "pip install contractions"
      ],
      "execution_count": 10,
      "outputs": [
        {
          "output_type": "stream",
          "text": [
            "Collecting contractions\n",
            "  Downloading https://files.pythonhosted.org/packages/00/92/a05b76a692ac08d470ae5c23873cf1c9a041532f1ee065e74b374f218306/contractions-0.0.25-py2.py3-none-any.whl\n",
            "Collecting textsearch\n",
            "  Downloading https://files.pythonhosted.org/packages/42/a8/03407021f9555043de5492a2bd7a35c56cc03c2510092b5ec018cae1bbf1/textsearch-0.0.17-py2.py3-none-any.whl\n",
            "Collecting Unidecode\n",
            "\u001b[?25l  Downloading https://files.pythonhosted.org/packages/d0/42/d9edfed04228bacea2d824904cae367ee9efd05e6cce7ceaaedd0b0ad964/Unidecode-1.1.1-py2.py3-none-any.whl (238kB)\n",
            "\u001b[K     |████████████████████████████████| 245kB 3.7MB/s \n",
            "\u001b[?25hCollecting pyahocorasick\n",
            "\u001b[?25l  Downloading https://files.pythonhosted.org/packages/f4/9f/f0d8e8850e12829eea2e778f1c90e3c53a9a799b7f412082a5d21cd19ae1/pyahocorasick-1.4.0.tar.gz (312kB)\n",
            "\u001b[K     |████████████████████████████████| 317kB 7.7MB/s \n",
            "\u001b[?25hBuilding wheels for collected packages: pyahocorasick\n",
            "  Building wheel for pyahocorasick (setup.py) ... \u001b[?25l\u001b[?25hdone\n",
            "  Created wheel for pyahocorasick: filename=pyahocorasick-1.4.0-cp36-cp36m-linux_x86_64.whl size=81708 sha256=4ab382cebe603a98060941ae1fa3fcbfe498011b58bb901f3c1af3c96c60e1a8\n",
            "  Stored in directory: /root/.cache/pip/wheels/0a/90/61/87a55f5b459792fbb2b7ba6b31721b06ff5cf6bde541b40994\n",
            "Successfully built pyahocorasick\n",
            "Installing collected packages: Unidecode, pyahocorasick, textsearch, contractions\n",
            "Successfully installed Unidecode-1.1.1 contractions-0.0.25 pyahocorasick-1.4.0 textsearch-0.0.17\n"
          ],
          "name": "stdout"
        }
      ]
    },
    {
      "cell_type": "code",
      "metadata": {
        "id": "EFp0FPD-8dcs",
        "colab_type": "code",
        "colab": {}
      },
      "source": [
        "import contractions\n",
        "\n",
        "df['split']=df['lowercase'].apply(lambda x : filter(None,x.split(\" \")))\n",
        "df['token']=df['split'].apply(lambda x : [contractions.fix(y) for y in x])\n",
        "df['contraceptions']=df['token'].apply(lambda x : \" \".join(x))\n"
      ],
      "execution_count": 11,
      "outputs": []
    },
    {
      "cell_type": "code",
      "metadata": {
        "id": "4baD8HNmFV2W",
        "colab_type": "code",
        "colab": {
          "base_uri": "https://localhost:8080/",
          "height": 278
        },
        "outputId": "52c976f3-01cc-4423-a1ae-0dd1579c6037"
      },
      "source": [
        "df.head()"
      ],
      "execution_count": 12,
      "outputs": [
        {
          "output_type": "execute_result",
          "data": {
            "text/html": [
              "<div>\n",
              "<style scoped>\n",
              "    .dataframe tbody tr th:only-of-type {\n",
              "        vertical-align: middle;\n",
              "    }\n",
              "\n",
              "    .dataframe tbody tr th {\n",
              "        vertical-align: top;\n",
              "    }\n",
              "\n",
              "    .dataframe thead th {\n",
              "        text-align: right;\n",
              "    }\n",
              "</style>\n",
              "<table border=\"1\" class=\"dataframe\">\n",
              "  <thead>\n",
              "    <tr style=\"text-align: right;\">\n",
              "      <th></th>\n",
              "      <th>ID</th>\n",
              "      <th>User</th>\n",
              "      <th>Text</th>\n",
              "      <th>Sentiment</th>\n",
              "      <th>ner</th>\n",
              "      <th>lowercase</th>\n",
              "      <th>split</th>\n",
              "      <th>token</th>\n",
              "      <th>contraceptions</th>\n",
              "    </tr>\n",
              "  </thead>\n",
              "  <tbody>\n",
              "    <tr>\n",
              "      <th>0</th>\n",
              "      <td>864192</td>\n",
              "      <td>Carly_FTS</td>\n",
              "      <td>I *heart* filling up @dennisschaub desk   1 it...</td>\n",
              "      <td>1</td>\n",
              "      <td>I *heart* filling up @dennisschaub desk   1 it...</td>\n",
              "      <td>i *heart* filling up @dennisschaub desk 1 it m...</td>\n",
              "      <td>&lt;filter object at 0x7f9ac9416f60&gt;</td>\n",
              "      <td>[i, *heart*, filling, up, @dennisschaub, desk,...</td>\n",
              "      <td>i *heart* filling up @dennisschaub desk 1 it m...</td>\n",
              "    </tr>\n",
              "    <tr>\n",
              "      <th>1</th>\n",
              "      <td>523691</td>\n",
              "      <td>Open_Sourcing</td>\n",
              "      <td>#SocioMat - people create prettier, younger an...</td>\n",
              "      <td>1</td>\n",
              "      <td># - people create prettier, younger and better...</td>\n",
              "      <td># - people create prettier, younger and better...</td>\n",
              "      <td>&lt;filter object at 0x7f9ac9cb91d0&gt;</td>\n",
              "      <td>[#, -, people, create, prettier,, younger, and...</td>\n",
              "      <td># - people create prettier, younger and better...</td>\n",
              "    </tr>\n",
              "    <tr>\n",
              "      <th>2</th>\n",
              "      <td>584154</td>\n",
              "      <td>xxcharlx</td>\n",
              "      <td>no way i dont want the tour to end</td>\n",
              "      <td>0</td>\n",
              "      <td>no way i dont want the tour to end</td>\n",
              "      <td>no way i dont want the tour to end</td>\n",
              "      <td>&lt;filter object at 0x7f9ac9cb9400&gt;</td>\n",
              "      <td>[no, way, i, do not, want, the, tour, to, end]</td>\n",
              "      <td>no way i do not want the tour to end</td>\n",
              "    </tr>\n",
              "    <tr>\n",
              "      <th>3</th>\n",
              "      <td>1527961</td>\n",
              "      <td>andreapuddu</td>\n",
              "      <td>@HemalRadia Hi Amazing Brother! Sending Limitl...</td>\n",
              "      <td>1</td>\n",
              "      <td>@HemalRadia Hi Amazing Brother!  (((Love))) Yo...</td>\n",
              "      <td>@hemalradia hi amazing brother! (((love))) you...</td>\n",
              "      <td>&lt;filter object at 0x7f9ac9cb96d8&gt;</td>\n",
              "      <td>[@hemalradia, hi, amazing, brother!, (((love))...</td>\n",
              "      <td>@hemalradia hi amazing brother! (((love))) you...</td>\n",
              "    </tr>\n",
              "    <tr>\n",
              "      <th>4</th>\n",
              "      <td>28609</td>\n",
              "      <td>umbec</td>\n",
              "      <td>@flockmaster they are chocolate</td>\n",
              "      <td>1</td>\n",
              "      <td>@flockmaster they are chocolate</td>\n",
              "      <td>@flockmaster they are chocolate</td>\n",
              "      <td>&lt;filter object at 0x7f9ac9cb97b8&gt;</td>\n",
              "      <td>[@flockmaster, they, are, chocolate]</td>\n",
              "      <td>@flockmaster they are chocolate</td>\n",
              "    </tr>\n",
              "  </tbody>\n",
              "</table>\n",
              "</div>"
            ],
            "text/plain": [
              "        ID  ...                                     contraceptions\n",
              "0   864192  ...  i *heart* filling up @dennisschaub desk 1 it m...\n",
              "1   523691  ...  # - people create prettier, younger and better...\n",
              "2   584154  ...               no way i do not want the tour to end\n",
              "3  1527961  ...  @hemalradia hi amazing brother! (((love))) you...\n",
              "4    28609  ...                    @flockmaster they are chocolate\n",
              "\n",
              "[5 rows x 9 columns]"
            ]
          },
          "metadata": {
            "tags": []
          },
          "execution_count": 12
        }
      ]
    },
    {
      "cell_type": "markdown",
      "metadata": {
        "id": "ALxP6ieJsf9B",
        "colab_type": "text"
      },
      "source": [
        "**3. Remove all punctuation**"
      ]
    },
    {
      "cell_type": "markdown",
      "metadata": {
        "id": "2JTG_vnxhtO7",
        "colab_type": "text"
      },
      "source": [
        "Punctuation does not add any value to sentiment analysis and therefore the texts are stripped of any punctuation."
      ]
    },
    {
      "cell_type": "code",
      "metadata": {
        "id": "PoHYRaStlTfg",
        "colab_type": "code",
        "colab": {}
      },
      "source": [
        "\n",
        "df['noPunctuation']= df['contraceptions'].str.replace('[^\\w\\s]', '')"
      ],
      "execution_count": 13,
      "outputs": []
    },
    {
      "cell_type": "code",
      "metadata": {
        "id": "Lq_NPIaamgbG",
        "colab_type": "code",
        "colab": {
          "base_uri": "https://localhost:8080/",
          "height": 295
        },
        "outputId": "8c8741c9-f888-4a6d-a64e-c7f17f190c6c"
      },
      "source": [
        "df.head()"
      ],
      "execution_count": 14,
      "outputs": [
        {
          "output_type": "execute_result",
          "data": {
            "text/html": [
              "<div>\n",
              "<style scoped>\n",
              "    .dataframe tbody tr th:only-of-type {\n",
              "        vertical-align: middle;\n",
              "    }\n",
              "\n",
              "    .dataframe tbody tr th {\n",
              "        vertical-align: top;\n",
              "    }\n",
              "\n",
              "    .dataframe thead th {\n",
              "        text-align: right;\n",
              "    }\n",
              "</style>\n",
              "<table border=\"1\" class=\"dataframe\">\n",
              "  <thead>\n",
              "    <tr style=\"text-align: right;\">\n",
              "      <th></th>\n",
              "      <th>ID</th>\n",
              "      <th>User</th>\n",
              "      <th>Text</th>\n",
              "      <th>Sentiment</th>\n",
              "      <th>ner</th>\n",
              "      <th>lowercase</th>\n",
              "      <th>split</th>\n",
              "      <th>token</th>\n",
              "      <th>contraceptions</th>\n",
              "      <th>noPunctuation</th>\n",
              "    </tr>\n",
              "  </thead>\n",
              "  <tbody>\n",
              "    <tr>\n",
              "      <th>0</th>\n",
              "      <td>864192</td>\n",
              "      <td>Carly_FTS</td>\n",
              "      <td>I *heart* filling up @dennisschaub desk   1 it...</td>\n",
              "      <td>1</td>\n",
              "      <td>I *heart* filling up @dennisschaub desk   1 it...</td>\n",
              "      <td>i *heart* filling up @dennisschaub desk 1 it m...</td>\n",
              "      <td>&lt;filter object at 0x7f9ac9416f60&gt;</td>\n",
              "      <td>[i, *heart*, filling, up, @dennisschaub, desk,...</td>\n",
              "      <td>i *heart* filling up @dennisschaub desk 1 it m...</td>\n",
              "      <td>i heart filling up dennisschaub desk 1 it mean...</td>\n",
              "    </tr>\n",
              "    <tr>\n",
              "      <th>1</th>\n",
              "      <td>523691</td>\n",
              "      <td>Open_Sourcing</td>\n",
              "      <td>#SocioMat - people create prettier, younger an...</td>\n",
              "      <td>1</td>\n",
              "      <td># - people create prettier, younger and better...</td>\n",
              "      <td># - people create prettier, younger and better...</td>\n",
              "      <td>&lt;filter object at 0x7f9ac9cb91d0&gt;</td>\n",
              "      <td>[#, -, people, create, prettier,, younger, and...</td>\n",
              "      <td># - people create prettier, younger and better...</td>\n",
              "      <td>people create prettier younger and better lo...</td>\n",
              "    </tr>\n",
              "    <tr>\n",
              "      <th>2</th>\n",
              "      <td>584154</td>\n",
              "      <td>xxcharlx</td>\n",
              "      <td>no way i dont want the tour to end</td>\n",
              "      <td>0</td>\n",
              "      <td>no way i dont want the tour to end</td>\n",
              "      <td>no way i dont want the tour to end</td>\n",
              "      <td>&lt;filter object at 0x7f9ac9cb9400&gt;</td>\n",
              "      <td>[no, way, i, do not, want, the, tour, to, end]</td>\n",
              "      <td>no way i do not want the tour to end</td>\n",
              "      <td>no way i do not want the tour to end</td>\n",
              "    </tr>\n",
              "    <tr>\n",
              "      <th>3</th>\n",
              "      <td>1527961</td>\n",
              "      <td>andreapuddu</td>\n",
              "      <td>@HemalRadia Hi Amazing Brother! Sending Limitl...</td>\n",
              "      <td>1</td>\n",
              "      <td>@HemalRadia Hi Amazing Brother!  (((Love))) Yo...</td>\n",
              "      <td>@hemalradia hi amazing brother! (((love))) you...</td>\n",
              "      <td>&lt;filter object at 0x7f9ac9cb96d8&gt;</td>\n",
              "      <td>[@hemalradia, hi, amazing, brother!, (((love))...</td>\n",
              "      <td>@hemalradia hi amazing brother! (((love))) you...</td>\n",
              "      <td>hemalradia hi amazing brother love your way is...</td>\n",
              "    </tr>\n",
              "    <tr>\n",
              "      <th>4</th>\n",
              "      <td>28609</td>\n",
              "      <td>umbec</td>\n",
              "      <td>@flockmaster they are chocolate</td>\n",
              "      <td>1</td>\n",
              "      <td>@flockmaster they are chocolate</td>\n",
              "      <td>@flockmaster they are chocolate</td>\n",
              "      <td>&lt;filter object at 0x7f9ac9cb97b8&gt;</td>\n",
              "      <td>[@flockmaster, they, are, chocolate]</td>\n",
              "      <td>@flockmaster they are chocolate</td>\n",
              "      <td>flockmaster they are chocolate</td>\n",
              "    </tr>\n",
              "  </tbody>\n",
              "</table>\n",
              "</div>"
            ],
            "text/plain": [
              "        ID  ...                                      noPunctuation\n",
              "0   864192  ...  i heart filling up dennisschaub desk 1 it mean...\n",
              "1   523691  ...    people create prettier younger and better lo...\n",
              "2   584154  ...               no way i do not want the tour to end\n",
              "3  1527961  ...  hemalradia hi amazing brother love your way is...\n",
              "4    28609  ...                     flockmaster they are chocolate\n",
              "\n",
              "[5 rows x 10 columns]"
            ]
          },
          "metadata": {
            "tags": []
          },
          "execution_count": 14
        }
      ]
    },
    {
      "cell_type": "markdown",
      "metadata": {
        "id": "5bgNlVaB0Cw0",
        "colab_type": "text"
      },
      "source": [
        "**4.Remove stopwords**"
      ]
    },
    {
      "cell_type": "markdown",
      "metadata": {
        "id": "YFRsW4JHh7K8",
        "colab_type": "text"
      },
      "source": [
        "Stop words such as I, my, he, she also does not add any value when determining the sentiment of a text. I used the nltk library to obtain a list of 179 stopwords. What I noticed is that the accuracy slightly decreased after using these stopwords and the reason for this is that some stop words like no, shouldn't, not actually add negative sentiment. For example a sentence like \"No! I wont do it\", removing the no will make it difficult to guess the sentiment of this sentence. So to avoid this issue I removed some stopwords that could possible have negative sentiment from the list of stopwords."
      ]
    },
    {
      "cell_type": "code",
      "metadata": {
        "id": "ACswkQtCQaHl",
        "colab_type": "code",
        "colab": {
          "base_uri": "https://localhost:8080/",
          "height": 1000
        },
        "outputId": "b824945f-1dde-4ef7-ef3d-d032cb484d0e"
      },
      "source": [
        "import nltk\n",
        "nltk.download()"
      ],
      "execution_count": 15,
      "outputs": [
        {
          "output_type": "stream",
          "text": [
            "NLTK Downloader\n",
            "---------------------------------------------------------------------------\n",
            "    d) Download   l) List    u) Update   c) Config   h) Help   q) Quit\n",
            "---------------------------------------------------------------------------\n",
            "Downloader> d\n",
            "\n",
            "Download which package (l=list; x=cancel)?\n",
            "  Identifier> l\n",
            "Packages:\n",
            "  [ ] abc................. Australian Broadcasting Commission 2006\n",
            "  [ ] alpino.............. Alpino Dutch Treebank\n",
            "  [ ] averaged_perceptron_tagger Averaged Perceptron Tagger\n",
            "  [ ] averaged_perceptron_tagger_ru Averaged Perceptron Tagger (Russian)\n",
            "  [ ] basque_grammars..... Grammars for Basque\n",
            "  [ ] biocreative_ppi..... BioCreAtIvE (Critical Assessment of Information\n",
            "                           Extraction Systems in Biology)\n",
            "  [ ] bllip_wsj_no_aux.... BLLIP Parser: WSJ Model\n",
            "  [ ] book_grammars....... Grammars from NLTK Book\n",
            "  [ ] brown............... Brown Corpus\n",
            "  [ ] brown_tei........... Brown Corpus (TEI XML Version)\n",
            "  [ ] cess_cat............ CESS-CAT Treebank\n",
            "  [ ] cess_esp............ CESS-ESP Treebank\n",
            "  [ ] chat80.............. Chat-80 Data Files\n",
            "  [ ] city_database....... City Database\n",
            "  [ ] cmudict............. The Carnegie Mellon Pronouncing Dictionary (0.6)\n",
            "  [ ] comparative_sentences Comparative Sentence Dataset\n",
            "  [ ] comtrans............ ComTrans Corpus Sample\n",
            "  [ ] conll2000........... CONLL 2000 Chunking Corpus\n",
            "  [ ] conll2002........... CONLL 2002 Named Entity Recognition Corpus\n",
            "Hit Enter to continue: \n",
            "  [ ] conll2007........... Dependency Treebanks from CoNLL 2007 (Catalan\n",
            "                           and Basque Subset)\n",
            "  [ ] crubadan............ Crubadan Corpus\n",
            "  [ ] dependency_treebank. Dependency Parsed Treebank\n",
            "  [ ] dolch............... Dolch Word List\n",
            "  [ ] europarl_raw........ Sample European Parliament Proceedings Parallel\n",
            "                           Corpus\n",
            "  [ ] floresta............ Portuguese Treebank\n",
            "  [ ] framenet_v15........ FrameNet 1.5\n",
            "  [ ] framenet_v17........ FrameNet 1.7\n",
            "  [ ] gazetteers.......... Gazeteer Lists\n",
            "  [ ] genesis............. Genesis Corpus\n",
            "  [ ] gutenberg........... Project Gutenberg Selections\n",
            "  [ ] ieer................ NIST IE-ER DATA SAMPLE\n",
            "  [ ] inaugural........... C-Span Inaugural Address Corpus\n",
            "  [ ] indian.............. Indian Language POS-Tagged Corpus\n",
            "  [ ] jeita............... JEITA Public Morphologically Tagged Corpus (in\n",
            "                           ChaSen format)\n",
            "  [ ] kimmo............... PC-KIMMO Data Files\n",
            "  [ ] knbc................ KNB Corpus (Annotated blog corpus)\n",
            "  [ ] large_grammars...... Large context-free and feature-based grammars\n",
            "                           for parser comparison\n",
            "Hit Enter to continue: \n",
            "  [ ] lin_thesaurus....... Lin's Dependency Thesaurus\n",
            "  [ ] mac_morpho.......... MAC-MORPHO: Brazilian Portuguese news text with\n",
            "                           part-of-speech tags\n",
            "  [ ] machado............. Machado de Assis -- Obra Completa\n",
            "  [ ] masc_tagged......... MASC Tagged Corpus\n",
            "  [ ] maxent_ne_chunker... ACE Named Entity Chunker (Maximum entropy)\n",
            "  [ ] maxent_treebank_pos_tagger Treebank Part of Speech Tagger (Maximum entropy)\n",
            "  [ ] moses_sample........ Moses Sample Models\n",
            "  [ ] movie_reviews....... Sentiment Polarity Dataset Version 2.0\n",
            "  [ ] mte_teip5........... MULTEXT-East 1984 annotated corpus 4.0\n",
            "  [ ] mwa_ppdb............ The monolingual word aligner (Sultan et al.\n",
            "                           2015) subset of the Paraphrase Database.\n",
            "  [ ] names............... Names Corpus, Version 1.3 (1994-03-29)\n",
            "  [ ] nombank.1.0......... NomBank Corpus 1.0\n",
            "  [ ] nonbreaking_prefixes Non-Breaking Prefixes (Moses Decoder)\n",
            "  [ ] nps_chat............ NPS Chat\n",
            "  [ ] omw................. Open Multilingual Wordnet\n",
            "  [ ] opinion_lexicon..... Opinion Lexicon\n",
            "  [ ] panlex_swadesh...... PanLex Swadesh Corpora\n",
            "  [ ] paradigms........... Paradigm Corpus\n",
            "  [ ] pe08................ Cross-Framework and Cross-Domain Parser\n",
            "                           Evaluation Shared Task\n",
            "Hit Enter to continue: \n",
            "Hit Enter to continue: \n",
            "  [ ] perluniprops........ perluniprops: Index of Unicode Version 7.0.0\n",
            "                           character properties in Perl\n",
            "  [ ] pil................. The Patient Information Leaflet (PIL) Corpus\n",
            "  [ ] pl196x.............. Polish language of the XX century sixties\n",
            "  [ ] porter_test......... Porter Stemmer Test Files\n",
            "  [ ] ppattach............ Prepositional Phrase Attachment Corpus\n",
            "  [ ] problem_reports..... Problem Report Corpus\n",
            "  [ ] product_reviews_1... Product Reviews (5 Products)\n",
            "  [ ] product_reviews_2... Product Reviews (9 Products)\n",
            "  [ ] propbank............ Proposition Bank Corpus 1.0\n",
            "  [ ] pros_cons........... Pros and Cons\n",
            "  [ ] ptb................. Penn Treebank\n",
            "  [ ] punkt............... Punkt Tokenizer Models\n",
            "  [ ] qc.................. Experimental Data for Question Classification\n",
            "  [ ] reuters............. The Reuters-21578 benchmark corpus, ApteMod\n",
            "                           version\n",
            "  [ ] rslp................ RSLP Stemmer (Removedor de Sufixos da Lingua\n",
            "                           Portuguesa)\n",
            "  [ ] rte................. PASCAL RTE Challenges 1, 2, and 3\n",
            "  [ ] sample_grammars..... Sample Grammars\n",
            "  [ ] semcor.............. SemCor 3.0\n",
            "  [ ] senseval............ SENSEVAL 2 Corpus: Sense Tagged Text\n",
            "  [ ] sentence_polarity... Sentence Polarity Dataset v1.0\n",
            "  [ ] sentiwordnet........ SentiWordNet\n",
            "  [ ] shakespeare......... Shakespeare XML Corpus Sample\n",
            "  [ ] sinica_treebank..... Sinica Treebank Corpus Sample\n",
            "  [ ] smultron............ SMULTRON Corpus Sample\n",
            "  [ ] snowball_data....... Snowball Data\n",
            "  [ ] spanish_grammars.... Grammars for Spanish\n",
            "  [ ] state_union......... C-Span State of the Union Address Corpus\n",
            "  [ ] stopwords........... Stopwords Corpus\n",
            "  [ ] subjectivity........ Subjectivity Dataset v1.0\n",
            "  [ ] swadesh............. Swadesh Wordlists\n",
            "  [ ] switchboard......... Switchboard Corpus Sample\n",
            "  [ ] tagsets............. Help on Tagsets\n",
            "  [ ] timit............... TIMIT Corpus Sample\n",
            "  [ ] toolbox............. Toolbox Sample Files\n",
            "  [ ] treebank............ Penn Treebank Sample\n",
            "  [ ] twitter_samples..... Twitter Samples\n",
            "  [ ] udhr2............... Universal Declaration of Human Rights Corpus\n",
            "                           (Unicode Version)\n",
            "  [ ] udhr................ Universal Declaration of Human Rights Corpus\n",
            "Hit Enter to continue: \n",
            "  [ ] unicode_samples..... Unicode Samples\n",
            "  [ ] universal_tagset.... Mappings to the Universal Part-of-Speech Tagset\n",
            "  [ ] universal_treebanks_v20 Universal Treebanks Version 2.0\n",
            "  [ ] vader_lexicon....... VADER Sentiment Lexicon\n",
            "  [ ] verbnet3............ VerbNet Lexicon, Version 3.3\n",
            "  [ ] verbnet............. VerbNet Lexicon, Version 2.1\n",
            "  [ ] webtext............. Web Text Corpus\n",
            "  [ ] wmt15_eval.......... Evaluation data from WMT15\n",
            "  [ ] word2vec_sample..... Word2Vec Sample\n",
            "  [ ] wordnet............. WordNet\n",
            "  [ ] wordnet_ic.......... WordNet-InfoContent\n",
            "  [ ] words............... Word Lists\n",
            "  [ ] ycoe................ York-Toronto-Helsinki Parsed Corpus of Old\n",
            "                           English Prose\n",
            "\n",
            "Collections:\n",
            "  [ ] all-corpora......... All the corpora\n",
            "  [ ] all-nltk............ All packages available on nltk_data gh-pages\n",
            "                           branch\n",
            "  [ ] all................. All packages\n",
            "  [ ] book................ Everything used in the NLTK Book\n",
            "  [ ] popular............. Popular packages\n",
            "Hit Enter to continue: \n",
            "  [ ] tests............... Packages for running tests\n",
            "  [ ] third-party......... Third-party data packages\n",
            "\n",
            "([*] marks installed packages)\n",
            "\n",
            "Download which package (l=list; x=cancel)?\n",
            "  Identifier> \n",
            "\n",
            "---------------------------------------------------------------------------\n",
            "    d) Download   l) List    u) Update   c) Config   h) Help   q) Quit\n",
            "---------------------------------------------------------------------------\n",
            "Downloader> q\n"
          ],
          "name": "stdout"
        },
        {
          "output_type": "execute_result",
          "data": {
            "text/plain": [
              "True"
            ]
          },
          "metadata": {
            "tags": []
          },
          "execution_count": 15
        }
      ]
    },
    {
      "cell_type": "code",
      "metadata": {
        "id": "bqCqME9XnmKv",
        "colab_type": "code",
        "colab": {
          "base_uri": "https://localhost:8080/",
          "height": 52
        },
        "outputId": "a10cfa73-bf64-47d2-b1aa-6e21dbc5952d"
      },
      "source": [
        "import nltk\n",
        "nltk.download('stopwords')\n",
        "from nltk.corpus import stopwords\n",
        "stop_words = set(stopwords.words('english'))\n"
      ],
      "execution_count": 16,
      "outputs": [
        {
          "output_type": "stream",
          "text": [
            "[nltk_data] Downloading package stopwords to /root/nltk_data...\n",
            "[nltk_data]   Unzipping corpora/stopwords.zip.\n"
          ],
          "name": "stdout"
        }
      ]
    },
    {
      "cell_type": "markdown",
      "metadata": {
        "id": "2yD5c6qF2wvV",
        "colab_type": "text"
      },
      "source": [
        "I removed some words from the stop words set since they can add value to the sentiment. For example 'no' may give negative sentiment in a sentence and if its removed, then the sentiment is lost as well."
      ]
    },
    {
      "cell_type": "code",
      "metadata": {
        "id": "GcyIs_cYSQ1n",
        "colab_type": "code",
        "colab": {
          "base_uri": "https://localhost:8080/",
          "height": 72
        },
        "outputId": "9f2ba1bd-e9c9-4889-937c-4f1b195ff62d"
      },
      "source": [
        "print(stop_words)\n",
        "stop_words.remove('no')\n",
        "stop_words.remove(\"weren't\")\n",
        "stop_words.remove('don')\n",
        "stop_words.remove('didn')\n",
        "stop_words.remove(\"couldn't\")\n",
        "stop_words.remove('weren')\n",
        "stop_words.remove(\"shouldn't\")\n",
        "stop_words.remove(\"didn't\")\n",
        "stop_words.remove('wasn')\n",
        "stop_words.remove(\"shan't\")\n",
        "stop_words.remove(\"haven't\")\n",
        "stop_words.remove('shouldn')\n",
        "stop_words.remove('needn')\n",
        "stop_words.remove(\"needn't\")\n",
        "\n",
        "stop_words.remove(\"aren't\")\n",
        "stop_words.remove(\"wasn't\")\n",
        "stop_words.remove(\"hasn't\")\n",
        "stop_words.remove(\"isn't\")\n",
        "stop_words.remove('doesn')\n",
        "stop_words.remove(\"wouldn't\")\n",
        "stop_words.remove('aren')\n",
        "stop_words.remove('couldn')\n",
        "stop_words.remove('mustn')\n",
        "\n",
        "stop_words.remove('nor')\n",
        "stop_words.remove('mightn')\n",
        "stop_words.remove('wouldn')\n",
        "stop_words.remove('isn')\n",
        "stop_words.remove(\"doesn't\")\n",
        "stop_words.remove('against')\n",
        "stop_words.remove(\"mustn't\")\n",
        "stop_words.remove(\"hadn't\")\n",
        "stop_words.remove('haven')\n",
        "stop_words.remove(\"mightn't\")\n",
        "stop_words.remove(\"won't\")\n",
        "stop_words.remove(\"don't\")\n",
        "print(stop_words)\n",
        "df['nostop'] = df['noPunctuation'].apply(lambda x: \" \".join(x for x in x.split() if x not in stop_words))"
      ],
      "execution_count": 18,
      "outputs": [
        {
          "output_type": "stream",
          "text": [
            "{'weren', 'for', 'being', 'under', 'didn', 'about', 'any', 'before', 'through', 'over', 'if', 'ourselves', \"wasn't\", 'whom', 'above', 'too', 'yourself', 're', 'yours', 'can', 'y', \"mightn't\", 'or', 'until', \"haven't\", 'hadn', 'when', \"mustn't\", \"shan't\", \"needn't\", 'were', 'between', 'me', 'where', 'her', 'they', 'more', 'there', 'how', 'him', \"you'd\", 'should', 'them', 'few', 'doesn', 'ma', \"you're\", 'as', 'wasn', 'ours', 'theirs', \"she's\", 'what', 'aren', 'so', 'my', \"wouldn't\", 'hasn', 'then', 'do', 'on', 'because', 'll', 'that', 'below', 'and', 'but', 'during', 'its', 'are', 'at', 'some', 'in', 'had', 'who', 'all', 'into', \"hasn't\", \"won't\", 'here', 'he', 'we', \"that'll\", 'o', \"isn't\", 'myself', 'm', 'by', 'shouldn', 'a', 'mightn', 'she', 'other', \"shouldn't\", 'won', 'has', \"hadn't\", 'been', 'against', 'you', 'just', 'both', 'am', 'now', 'which', 'doing', 'wouldn', 'up', 'down', 'hers', 'these', \"you've\", 'each', 'our', 'ain', 'is', \"you'll\", 'itself', 'haven', 'very', \"aren't\", 'not', 'herself', 'this', 'why', \"don't\", 'your', 'off', 'no', 'was', 'will', 'of', 'while', 've', 'it', 's', 'couldn', 't', 'isn', 'most', 'i', 'the', 'an', 'himself', 'their', 'mustn', 'shan', 'further', 'does', 'than', 'after', 'don', 'have', 'did', 'be', 'out', 'having', 'from', 'to', 'those', 'nor', 'his', \"should've\", 'themselves', 'with', 'again', \"didn't\", 'such', 'same', \"doesn't\", 'yourselves', \"weren't\", \"couldn't\", 'once', 'd', 'only', 'own', 'needn', \"it's\"}\n",
            "{'for', 'being', 'under', 'about', 'any', 'before', 'through', 'over', 'if', 'ourselves', 'whom', 'above', 'too', 'yourself', 're', 'yours', 'can', 'y', 'or', 'until', 'hadn', 'when', 'were', 'between', 'me', 'where', 'her', 'they', 'more', 'there', 'how', 'him', \"you'd\", 'should', 'them', 'few', 'ma', \"you're\", 'as', 'ours', 'theirs', \"she's\", 'what', 'so', 'my', 'hasn', 'then', 'do', 'on', 'because', 'll', 'that', 'below', 'and', 'but', 'during', 'its', 'are', 'at', 'some', 'in', 'had', 'who', 'all', 'into', 'here', 'he', 'we', \"that'll\", 'o', 'myself', 'm', 'by', 'a', 'she', 'other', 'won', 'has', 'been', 'you', 'just', 'both', 'am', 'now', 'which', 'doing', 'up', 'down', 'hers', 'these', \"you've\", 'each', 'our', 'ain', 'is', \"you'll\", 'itself', 'very', 'not', 'herself', 'this', 'why', 'your', 'off', 'was', 'will', 'of', 'while', 've', 'it', 's', 't', 'most', 'i', 'the', 'an', 'himself', 'their', 'shan', 'further', 'does', 'than', 'after', 'have', 'did', 'be', 'out', 'having', 'from', 'to', 'those', 'his', \"should've\", 'themselves', 'with', 'again', 'such', 'same', 'yourselves', 'once', 'd', 'only', 'own', \"it's\"}\n"
          ],
          "name": "stdout"
        }
      ]
    },
    {
      "cell_type": "code",
      "metadata": {
        "id": "wP6cWmNA6JNk",
        "colab_type": "code",
        "colab": {
          "base_uri": "https://localhost:8080/",
          "height": 329
        },
        "outputId": "865188da-37ed-46b8-ab23-7a0adc4716fb"
      },
      "source": [
        "df.head()"
      ],
      "execution_count": 19,
      "outputs": [
        {
          "output_type": "execute_result",
          "data": {
            "text/html": [
              "<div>\n",
              "<style scoped>\n",
              "    .dataframe tbody tr th:only-of-type {\n",
              "        vertical-align: middle;\n",
              "    }\n",
              "\n",
              "    .dataframe tbody tr th {\n",
              "        vertical-align: top;\n",
              "    }\n",
              "\n",
              "    .dataframe thead th {\n",
              "        text-align: right;\n",
              "    }\n",
              "</style>\n",
              "<table border=\"1\" class=\"dataframe\">\n",
              "  <thead>\n",
              "    <tr style=\"text-align: right;\">\n",
              "      <th></th>\n",
              "      <th>ID</th>\n",
              "      <th>User</th>\n",
              "      <th>Text</th>\n",
              "      <th>Sentiment</th>\n",
              "      <th>ner</th>\n",
              "      <th>lowercase</th>\n",
              "      <th>split</th>\n",
              "      <th>token</th>\n",
              "      <th>contraceptions</th>\n",
              "      <th>noPunctuation</th>\n",
              "      <th>nostop</th>\n",
              "    </tr>\n",
              "  </thead>\n",
              "  <tbody>\n",
              "    <tr>\n",
              "      <th>0</th>\n",
              "      <td>864192</td>\n",
              "      <td>Carly_FTS</td>\n",
              "      <td>I *heart* filling up @dennisschaub desk   1 it...</td>\n",
              "      <td>1</td>\n",
              "      <td>I *heart* filling up @dennisschaub desk   1 it...</td>\n",
              "      <td>i *heart* filling up @dennisschaub desk 1 it m...</td>\n",
              "      <td>&lt;filter object at 0x7f9ac9416f60&gt;</td>\n",
              "      <td>[i, *heart*, filling, up, @dennisschaub, desk,...</td>\n",
              "      <td>i *heart* filling up @dennisschaub desk 1 it m...</td>\n",
              "      <td>i heart filling up dennisschaub desk 1 it mean...</td>\n",
              "      <td>heart filling dennisschaub desk 1 means sales ...</td>\n",
              "    </tr>\n",
              "    <tr>\n",
              "      <th>1</th>\n",
              "      <td>523691</td>\n",
              "      <td>Open_Sourcing</td>\n",
              "      <td>#SocioMat - people create prettier, younger an...</td>\n",
              "      <td>1</td>\n",
              "      <td># - people create prettier, younger and better...</td>\n",
              "      <td># - people create prettier, younger and better...</td>\n",
              "      <td>&lt;filter object at 0x7f9ac9cb91d0&gt;</td>\n",
              "      <td>[#, -, people, create, prettier,, younger, and...</td>\n",
              "      <td># - people create prettier, younger and better...</td>\n",
              "      <td>people create prettier younger and better lo...</td>\n",
              "      <td>people create prettier younger better looking ...</td>\n",
              "    </tr>\n",
              "    <tr>\n",
              "      <th>2</th>\n",
              "      <td>584154</td>\n",
              "      <td>xxcharlx</td>\n",
              "      <td>no way i dont want the tour to end</td>\n",
              "      <td>0</td>\n",
              "      <td>no way i dont want the tour to end</td>\n",
              "      <td>no way i dont want the tour to end</td>\n",
              "      <td>&lt;filter object at 0x7f9ac9cb9400&gt;</td>\n",
              "      <td>[no, way, i, do not, want, the, tour, to, end]</td>\n",
              "      <td>no way i do not want the tour to end</td>\n",
              "      <td>no way i do not want the tour to end</td>\n",
              "      <td>no way want tour end</td>\n",
              "    </tr>\n",
              "    <tr>\n",
              "      <th>3</th>\n",
              "      <td>1527961</td>\n",
              "      <td>andreapuddu</td>\n",
              "      <td>@HemalRadia Hi Amazing Brother! Sending Limitl...</td>\n",
              "      <td>1</td>\n",
              "      <td>@HemalRadia Hi Amazing Brother!  (((Love))) Yo...</td>\n",
              "      <td>@hemalradia hi amazing brother! (((love))) you...</td>\n",
              "      <td>&lt;filter object at 0x7f9ac9cb96d8&gt;</td>\n",
              "      <td>[@hemalradia, hi, amazing, brother!, (((love))...</td>\n",
              "      <td>@hemalradia hi amazing brother! (((love))) you...</td>\n",
              "      <td>hemalradia hi amazing brother love your way is...</td>\n",
              "      <td>hemalradia hi amazing brother love way radiant...</td>\n",
              "    </tr>\n",
              "    <tr>\n",
              "      <th>4</th>\n",
              "      <td>28609</td>\n",
              "      <td>umbec</td>\n",
              "      <td>@flockmaster they are chocolate</td>\n",
              "      <td>1</td>\n",
              "      <td>@flockmaster they are chocolate</td>\n",
              "      <td>@flockmaster they are chocolate</td>\n",
              "      <td>&lt;filter object at 0x7f9ac9cb97b8&gt;</td>\n",
              "      <td>[@flockmaster, they, are, chocolate]</td>\n",
              "      <td>@flockmaster they are chocolate</td>\n",
              "      <td>flockmaster they are chocolate</td>\n",
              "      <td>flockmaster chocolate</td>\n",
              "    </tr>\n",
              "  </tbody>\n",
              "</table>\n",
              "</div>"
            ],
            "text/plain": [
              "        ID  ...                                             nostop\n",
              "0   864192  ...  heart filling dennisschaub desk 1 means sales ...\n",
              "1   523691  ...  people create prettier younger better looking ...\n",
              "2   584154  ...                               no way want tour end\n",
              "3  1527961  ...  hemalradia hi amazing brother love way radiant...\n",
              "4    28609  ...                              flockmaster chocolate\n",
              "\n",
              "[5 rows x 11 columns]"
            ]
          },
          "metadata": {
            "tags": []
          },
          "execution_count": 19
        }
      ]
    },
    {
      "cell_type": "markdown",
      "metadata": {
        "id": "BusdkM_i0wLx",
        "colab_type": "text"
      },
      "source": [
        "**5. Lemmatization**"
      ]
    },
    {
      "cell_type": "markdown",
      "metadata": {
        "id": "o6Yz_kLxnk7k",
        "colab_type": "text"
      },
      "source": [
        "Lemmatization is getting to the base form of a word by removing affixes. For example the root word for swimming,swims, swimed are all swim. This is important as it reduces the complexity of the model by grouping words with the same meaning together as the root word."
      ]
    },
    {
      "cell_type": "code",
      "metadata": {
        "id": "Igvn_oIc3VFw",
        "colab_type": "code",
        "colab": {}
      },
      "source": [
        "import spacy\n",
        "nlp = spacy.load(\"en_core_web_sm\")\n",
        "\n",
        "df['lemma'] = df['nostop'].apply(lambda x: [y.lemma_ for y in  nlp(x)])\n"
      ],
      "execution_count": null,
      "outputs": []
    },
    {
      "cell_type": "code",
      "metadata": {
        "id": "_a4VJIozoAgM",
        "colab_type": "code",
        "colab": {}
      },
      "source": [
        "df['lemmas'] = df['lemma'].apply(lambda x : \" \".join(x))"
      ],
      "execution_count": null,
      "outputs": []
    },
    {
      "cell_type": "code",
      "metadata": {
        "id": "peQQREAw5qTY",
        "colab_type": "code",
        "colab": {
          "base_uri": "https://localhost:8080/",
          "height": 363
        },
        "outputId": "55d222b5-a813-48b7-8221-a241445a0f89"
      },
      "source": [
        "df.head()"
      ],
      "execution_count": 204,
      "outputs": [
        {
          "output_type": "execute_result",
          "data": {
            "text/html": [
              "<div>\n",
              "<style scoped>\n",
              "    .dataframe tbody tr th:only-of-type {\n",
              "        vertical-align: middle;\n",
              "    }\n",
              "\n",
              "    .dataframe tbody tr th {\n",
              "        vertical-align: top;\n",
              "    }\n",
              "\n",
              "    .dataframe thead th {\n",
              "        text-align: right;\n",
              "    }\n",
              "</style>\n",
              "<table border=\"1\" class=\"dataframe\">\n",
              "  <thead>\n",
              "    <tr style=\"text-align: right;\">\n",
              "      <th></th>\n",
              "      <th>ID</th>\n",
              "      <th>User</th>\n",
              "      <th>Text</th>\n",
              "      <th>Sentiment</th>\n",
              "      <th>lowercase</th>\n",
              "      <th>split</th>\n",
              "      <th>token</th>\n",
              "      <th>contraceptions</th>\n",
              "      <th>noPunctuation</th>\n",
              "      <th>nostop</th>\n",
              "      <th>lemma</th>\n",
              "      <th>lemmas</th>\n",
              "    </tr>\n",
              "  </thead>\n",
              "  <tbody>\n",
              "    <tr>\n",
              "      <th>0</th>\n",
              "      <td>864192</td>\n",
              "      <td>Carly_FTS</td>\n",
              "      <td>I *heart* filling up @dennisschaub desk   1 it...</td>\n",
              "      <td>1</td>\n",
              "      <td>i *heart* filling up @dennisschaub desk 1 it m...</td>\n",
              "      <td>&lt;filter object at 0x7f1e2551d5f8&gt;</td>\n",
              "      <td>[i, *heart*, filling, up, @dennisschaub, desk,...</td>\n",
              "      <td>i *heart* filling up @dennisschaub desk 1 it m...</td>\n",
              "      <td>i heart filling up dennisschaub desk 1 it mean...</td>\n",
              "      <td>heart filling dennisschaub desk 1 means sales ...</td>\n",
              "      <td>[i, heart, fill, up, dennisschaub, desk, 1, -P...</td>\n",
              "      <td>i heart fill up dennisschaub desk 1 -PRON- mea...</td>\n",
              "    </tr>\n",
              "    <tr>\n",
              "      <th>1</th>\n",
              "      <td>523691</td>\n",
              "      <td>Open_Sourcing</td>\n",
              "      <td>#SocioMat - people create prettier, younger an...</td>\n",
              "      <td>1</td>\n",
              "      <td>#sociomat - people create prettier, younger an...</td>\n",
              "      <td>&lt;filter object at 0x7f1e2551d780&gt;</td>\n",
              "      <td>[#sociomat, -, people, create, prettier,, youn...</td>\n",
              "      <td>#sociomat - people create prettier, younger an...</td>\n",
              "      <td>sociomat  people create prettier younger and b...</td>\n",
              "      <td>sociomat people create prettier younger better...</td>\n",
              "      <td>[sociomat,  , people, create, pretty, young, a...</td>\n",
              "      <td>sociomat   people create pretty young and bett...</td>\n",
              "    </tr>\n",
              "    <tr>\n",
              "      <th>2</th>\n",
              "      <td>584154</td>\n",
              "      <td>xxcharlx</td>\n",
              "      <td>no way i dont want the tour to end</td>\n",
              "      <td>0</td>\n",
              "      <td>no way i dont want the tour to end</td>\n",
              "      <td>&lt;filter object at 0x7f1e2551d550&gt;</td>\n",
              "      <td>[no, way, i, do not, want, the, tour, to, end]</td>\n",
              "      <td>no way i do not want the tour to end</td>\n",
              "      <td>no way i do not want the tour to end</td>\n",
              "      <td>no way want tour end</td>\n",
              "      <td>[no, way, i, do, not, want, the, tour, to, end]</td>\n",
              "      <td>no way i do not want the tour to end</td>\n",
              "    </tr>\n",
              "    <tr>\n",
              "      <th>3</th>\n",
              "      <td>1527961</td>\n",
              "      <td>andreapuddu</td>\n",
              "      <td>@HemalRadia Hi Amazing Brother! Sending Limitl...</td>\n",
              "      <td>1</td>\n",
              "      <td>@hemalradia hi amazing brother! sending limitl...</td>\n",
              "      <td>&lt;filter object at 0x7f1e2574ef28&gt;</td>\n",
              "      <td>[@hemalradia, hi, amazing, brother!, sending, ...</td>\n",
              "      <td>@hemalradia hi amazing brother! sending limitl...</td>\n",
              "      <td>hemalradia hi amazing brother sending limitles...</td>\n",
              "      <td>hemalradia hi amazing brother sending limitles...</td>\n",
              "      <td>[hemalradia, hi, amazing, brother, send, limit...</td>\n",
              "      <td>hemalradia hi amazing brother send limitless l...</td>\n",
              "    </tr>\n",
              "    <tr>\n",
              "      <th>4</th>\n",
              "      <td>28609</td>\n",
              "      <td>umbec</td>\n",
              "      <td>@flockmaster they are chocolate</td>\n",
              "      <td>1</td>\n",
              "      <td>@flockmaster they are chocolate</td>\n",
              "      <td>&lt;filter object at 0x7f1e2574ed68&gt;</td>\n",
              "      <td>[@flockmaster, they, are, chocolate]</td>\n",
              "      <td>@flockmaster they are chocolate</td>\n",
              "      <td>flockmaster they are chocolate</td>\n",
              "      <td>flockmaster chocolate</td>\n",
              "      <td>[flockmaster, -PRON-, be, chocolate]</td>\n",
              "      <td>flockmaster -PRON- be chocolate</td>\n",
              "    </tr>\n",
              "  </tbody>\n",
              "</table>\n",
              "</div>"
            ],
            "text/plain": [
              "        ID  ...                                             lemmas\n",
              "0   864192  ...  i heart fill up dennisschaub desk 1 -PRON- mea...\n",
              "1   523691  ...  sociomat   people create pretty young and bett...\n",
              "2   584154  ...               no way i do not want the tour to end\n",
              "3  1527961  ...  hemalradia hi amazing brother send limitless l...\n",
              "4    28609  ...                    flockmaster -PRON- be chocolate\n",
              "\n",
              "[5 rows x 12 columns]"
            ]
          },
          "metadata": {
            "tags": []
          },
          "execution_count": 204
        }
      ]
    },
    {
      "cell_type": "markdown",
      "metadata": {
        "id": "m1F0u7R63Qah",
        "colab_type": "text"
      },
      "source": [
        "**Training and testing split**"
      ]
    },
    {
      "cell_type": "code",
      "metadata": {
        "id": "E6gZ1At9pReV",
        "colab_type": "code",
        "colab": {}
      },
      "source": [
        "x_train, x_test, y_train, y_test = train_test_split(df.lemmas,df.Sentiment,test_size=0.33,random_state=42) #splitting the dataset into training and testing"
      ],
      "execution_count": null,
      "outputs": []
    },
    {
      "cell_type": "markdown",
      "metadata": {
        "id": "khp6DeF43Y_M",
        "colab_type": "text"
      },
      "source": [
        "**New model for conversion from text to words**"
      ]
    },
    {
      "cell_type": "markdown",
      "metadata": {
        "id": "EeQYDYUaxwKF",
        "colab_type": "text"
      },
      "source": [
        "I used TfidfVectorizer for converting the text to numbers instead of the CountVectorizer because TfidfVectorizer applies more weight to rare words instead of high frequency words. Also TfidfVectorizer increased the accuracy."
      ]
    },
    {
      "cell_type": "code",
      "metadata": {
        "id": "IXDATsoZpaWg",
        "colab_type": "code",
        "colab": {}
      },
      "source": [
        "#bag of words model to convert text to numbers\n",
        "\n",
        "cv =TfidfVectorizer(min_df=0.0, max_df=1.0, ngram_range=(0,4),\n",
        "                     sublinear_tf=True, max_features=100000)"
      ],
      "execution_count": null,
      "outputs": []
    },
    {
      "cell_type": "code",
      "metadata": {
        "id": "wVX4cZD2pbWU",
        "colab_type": "code",
        "colab": {}
      },
      "source": [
        "#transformed train reviews\n",
        "train_reviews = cv.fit_transform(x_train)\n",
        "#transformed test reviews\n",
        "test_reviews = cv.transform(x_test)"
      ],
      "execution_count": null,
      "outputs": []
    },
    {
      "cell_type": "code",
      "metadata": {
        "id": "s2nRLj-Lpl2m",
        "colab_type": "code",
        "colab": {
          "base_uri": "https://localhost:8080/",
          "height": 106
        },
        "outputId": "3213a5ab-d1d7-40b2-b356-53b10749df87"
      },
      "source": [
        "#The data preparation is done, steps below prepare a sample model\n",
        "#preparing the model\n",
        "lr= LogisticRegression(solver='lbfgs',class_weight='balanced', max_iter=10000)\n",
        "#training the model for Bag of words\n",
        "lr_bow=lr.fit(train_reviews,y_train)\n",
        "print(lr_bow)"
      ],
      "execution_count": null,
      "outputs": [
        {
          "output_type": "stream",
          "text": [
            "LogisticRegression(C=1.0, class_weight='balanced', dual=False,\n",
            "                   fit_intercept=True, intercept_scaling=1, l1_ratio=None,\n",
            "                   max_iter=10000, multi_class='auto', n_jobs=None,\n",
            "                   penalty='l2', random_state=None, solver='lbfgs', tol=0.0001,\n",
            "                   verbose=0, warm_start=False)\n"
          ],
          "name": "stdout"
        }
      ]
    },
    {
      "cell_type": "code",
      "metadata": {
        "id": "H3FzbEqapgPX",
        "colab_type": "code",
        "colab": {
          "base_uri": "https://localhost:8080/",
          "height": 35
        },
        "outputId": "a11f437d-5463-474b-e27e-0ba83174a5a4"
      },
      "source": [
        "#Accuracy score for bag of words\n",
        "lr_bow_predict = lr.predict(test_reviews)\n",
        "lr_bow_score = accuracy_score(y_test,lr_bow_predict)\n",
        "print(\"lr_bow_score :\",lr_bow_score)"
      ],
      "execution_count": null,
      "outputs": [
        {
          "output_type": "stream",
          "text": [
            "lr_bow_score : 0.8140575757575758\n"
          ],
          "name": "stdout"
        }
      ]
    },
    {
      "cell_type": "markdown",
      "metadata": {
        "id": "rcWM9ymHGMhz",
        "colab_type": "text"
      },
      "source": [
        "The final accuracy that I was able to achieve is 81% after data processing."
      ]
    },
    {
      "cell_type": "markdown",
      "metadata": {
        "id": "23evV07ohuA6",
        "colab_type": "text"
      },
      "source": [
        "#Method 2 : Using Deep learning and Glove Embeddings"
      ]
    },
    {
      "cell_type": "markdown",
      "metadata": {
        "id": "fnz1IA5iJLzG",
        "colab_type": "text"
      },
      "source": [
        "*Note:This code has been modified from my APS360(Artificial Intelligence Fundermentals) class"
      ]
    },
    {
      "cell_type": "markdown",
      "metadata": {
        "id": "4oNQIaXkJkNV",
        "colab_type": "text"
      },
      "source": [
        "Glove embeddings store more useful information regarding the context of words compared to the TfidfVectorizer method which is useful since we are trying to find the sentiment of the text. I used the twitter.27B corpus for my embeddings since the training data that we use is similiar in structure(length, spelling etc) to tweets from twitter. Deep learning for sentiment analysis is useful since it can be more accurate when dealing with very large datasets."
      ]
    },
    {
      "cell_type": "code",
      "metadata": {
        "id": "eF7tWZFjrAnZ",
        "colab_type": "code",
        "colab": {
          "base_uri": "https://localhost:8080/"
        },
        "outputId": "125df45b-6de5-4418-cf96-e05117880bad"
      },
      "source": [
        "#setup Google Drive\n",
        "from google.colab import drive\n",
        "drive.mount('/content/drive')"
      ],
      "execution_count": null,
      "outputs": [
        {
          "output_type": "stream",
          "text": [
            "Drive already mounted at /content/drive; to attempt to forcibly remount, call drive.mount(\"/content/drive\", force_remount=True).\n"
          ],
          "name": "stdout"
        }
      ]
    },
    {
      "cell_type": "markdown",
      "metadata": {
        "id": "f2gcx_hqM_Z9",
        "colab_type": "text"
      },
      "source": [
        "Load csv file from Google Drive"
      ]
    },
    {
      "cell_type": "code",
      "metadata": {
        "id": "qhN-NhE__R5M",
        "colab_type": "code",
        "colab": {}
      },
      "source": [
        "import csv\n",
        "\n",
        "# file location (make sure to use your file location)\n",
        "file_dir = '/content/drive/My Drive/aiHack/'\n",
        "\n",
        "# load csv file\n",
        "def get_data():\n",
        "    return csv.reader(open(file_dir + \"training_data (1).csv\",\"rt\", encoding=\"latin-1\"))\n"
      ],
      "execution_count": null,
      "outputs": []
    },
    {
      "cell_type": "markdown",
      "metadata": {
        "id": "v98f8H-qNFI4",
        "colab_type": "text"
      },
      "source": [
        "Preprocess and segment text"
      ]
    },
    {
      "cell_type": "code",
      "metadata": {
        "id": "s0pZ530yAVxw",
        "colab_type": "code",
        "colab": {}
      },
      "source": [
        "import torchtext\n",
        "import re\n",
        "\n",
        "def split_tweet(tweet):\n",
        "    #Remove punctuation\n",
        "    tweet = re.sub(r'[^\\w\\s]','',tweet)\n",
        "    # Convert all capital letters to lowercase\n",
        "    tweet = tweet.lower().split()\n",
        "    \n",
        "    filtered_sentence = [w for w in tweet if not w in stop_words] \n",
        "    filtered_sentence = [] \n",
        "\n",
        "    # Remove stopwords and digits\n",
        "    for w in tweet: \n",
        "      if w not in stop_words and w.isdigit()==False: \n",
        "        filtered_sentence.append(w)\n",
        "\n",
        "    return filtered_sentence\n",
        "# split_tweet(\"hello; don't you know? 23456\")"
      ],
      "execution_count": null,
      "outputs": []
    },
    {
      "cell_type": "markdown",
      "metadata": {
        "id": "2AT7iQZ0NXSs",
        "colab_type": "text"
      },
      "source": [
        "Use Twitter.27B corpus for Glove embeddings "
      ]
    },
    {
      "cell_type": "code",
      "metadata": {
        "id": "tHs6bz6jJD5w",
        "colab_type": "code",
        "colab": {}
      },
      "source": [
        "#dimensions of embeddings is 100 \n",
        "glove = torchtext.vocab.GloVe(name=\"twitter.27B\", dim=100)\n"
      ],
      "execution_count": null,
      "outputs": []
    },
    {
      "cell_type": "markdown",
      "metadata": {
        "id": "a1st9-fPNykd",
        "colab_type": "text"
      },
      "source": [
        "Get the embeddings for the words in the text and sort them into train, test and validation"
      ]
    },
    {
      "cell_type": "code",
      "metadata": {
        "id": "ASWvSgJcujT1",
        "colab_type": "code",
        "colab": {}
      },
      "source": [
        "def get_tweet_words(glove_vector):\n",
        "    train, valid, test = [], [], []\n",
        "    for i, line in enumerate(get_data()):\n",
        "        if i % 29 == 0:\n",
        "            tweet = line[-2]\n",
        "            idxs = [glove_vector.stoi[w]        # lookup the index of word, word is stored in dictionary\n",
        "                    for w in split_tweet(tweet)\n",
        "                    if w in glove_vector.stoi] # keep words that has an embedding\n",
        "            if not idxs: # ignore tweets without any word with an embedding\n",
        "                continue\n",
        "            idxs = torch.tensor(idxs) # convert list to pytorch tensor\n",
        "            # Check the label of text\n",
        "            if(line[-1]=='0'):\n",
        "              label = torch.tensor(0)\n",
        "            else:\n",
        "              label = torch.tensor(1)\n",
        "\n",
        "            # Split data in train test and validation \n",
        "            if i % 5 < 3:\n",
        "                train.append((idxs, label))\n",
        "            elif i % 5 == 4:\n",
        "                valid.append((idxs, label))\n",
        "            else:\n",
        "                test.append((idxs, label))\n",
        "    return train, valid, test\n",
        "\n",
        "train, valid, test = get_tweet_words(glove)"
      ],
      "execution_count": 180,
      "outputs": []
    },
    {
      "cell_type": "markdown",
      "metadata": {
        "id": "IzwS9TFVSwwE",
        "colab_type": "text"
      },
      "source": [
        "Model architecture for GRU. I used a GRU since it can capture longterm dependancies which is not possible with a RNN."
      ]
    },
    {
      "cell_type": "code",
      "metadata": {
        "id": "K6kBCizUv6es",
        "colab_type": "code",
        "colab": {}
      },
      "source": [
        "import torch.nn.functional as F\n",
        "class TweetRNN(nn.Module):\n",
        "    def __init__(self, input_size, hidden_size, num_classes):\n",
        "        super(TweetRNN, self).__init__()\n",
        "        self.emb = nn.Embedding.from_pretrained(glove.vectors)# embedding values from indexes\n",
        "        self.hidden_size = hidden_size\n",
        "        self.rnn = nn.GRU(input_size, hidden_size, batch_first=True)\n",
        "        self.fc2 = nn.Linear(hidden_size, num_classes)\n",
        "    def forward(self, x):\n",
        "        # Look up the embedding\n",
        "        x = self.emb(x)\n",
        "        # Set an initial hidden state\n",
        "        h0 = torch.zeros(1, x.size(0), self.hidden_size)\n",
        "        # Forward propagate the RNN\n",
        "        out, _ = self.rnn(x, h0)\n",
        "       \n",
        "        # Pass the output of the last time step to the classifier\n",
        "        out = self.fc2(out[:, -1, :])\n",
        "        return out\n",
        "\n",
        "model = TweetRNN(50, 50, 2)"
      ],
      "execution_count": 181,
      "outputs": []
    },
    {
      "cell_type": "markdown",
      "metadata": {
        "id": "3Z9Bj2IzTL8F",
        "colab_type": "text"
      },
      "source": [
        "Batch and pad the texts based on their length. Texts of similiar length are batched together."
      ]
    },
    {
      "cell_type": "code",
      "metadata": {
        "id": "SCK-dOgxwFSM",
        "colab_type": "code",
        "colab": {}
      },
      "source": [
        "import random\n",
        "\n",
        "class TweetBatcher:\n",
        "    def __init__(self, tweets, batch_size=32, drop_last=False):\n",
        "        # store tweets by length\n",
        "        self.tweets_by_length = {}\n",
        "        for words, label in tweets:\n",
        "            # compute the length of the tweet\n",
        "            wlen = words.shape[0]\n",
        "            # put the tweet in the correct key inside self.tweet_by_length\n",
        "            if wlen not in self.tweets_by_length:\n",
        "                self.tweets_by_length[wlen] = []\n",
        "            self.tweets_by_length[wlen].append((words, label),)\n",
        "         \n",
        "        #  create a DataLoader for each set of tweets of the same length\n",
        "        self.loaders = {wlen : torch.utils.data.DataLoader(\n",
        "                                    tweets,\n",
        "                                    batch_size=batch_size,\n",
        "                                    shuffle=True,\n",
        "                                    drop_last=drop_last) # omit last batch if smaller than batch_size\n",
        "            for wlen, tweets in self.tweets_by_length.items()}\n",
        "        \n",
        "    def __iter__(self): # called by Python to create an iterator\n",
        "        # make an iterator for every tweet length\n",
        "        iters = [iter(loader) for loader in self.loaders.values()]\n",
        "        while iters:\n",
        "            # pick an iterator (a length)\n",
        "            im = random.choice(iters)\n",
        "            try:\n",
        "                yield next(im)\n",
        "            except StopIteration:\n",
        "                # no more elements in the iterator, remove it\n",
        "                iters.remove(im)"
      ],
      "execution_count": 182,
      "outputs": []
    },
    {
      "cell_type": "markdown",
      "metadata": {
        "id": "u-X7wXxCTknS",
        "colab_type": "text"
      },
      "source": [
        "Function to calculate the accuracy of the train,test and validation dataset"
      ]
    },
    {
      "cell_type": "code",
      "metadata": {
        "id": "mOl1mGY6wIfk",
        "colab_type": "code",
        "colab": {}
      },
      "source": [
        "def get_accuracy(model, data_loader):\n",
        "    correct, total = 0, 0\n",
        "    for tweets, labels in data_loader:\n",
        "        output = model(tweets)\n",
        "        pred = output.max(1, keepdim=True)[1]\n",
        "        correct += pred.eq(labels.view_as(pred)).sum().item()\n",
        "        total += labels.shape[0]\n",
        "    return correct / total\n",
        "\n",
        "test_loader = TweetBatcher(test, batch_size=64, drop_last=False)\n",
        "get_accuracy(model, test_loader)"
      ],
      "execution_count": null,
      "outputs": []
    },
    {
      "cell_type": "markdown",
      "metadata": {
        "id": "aqy6MnbUTrPr",
        "colab_type": "text"
      },
      "source": [
        "Training code for GRU"
      ]
    },
    {
      "cell_type": "code",
      "metadata": {
        "id": "U6w1p6BTwVfU",
        "colab_type": "code",
        "colab": {}
      },
      "source": [
        "def train_rnn_network(model, train, valid, num_epochs=5, learning_rate=1e-5):\n",
        "    criterion = nn.CrossEntropyLoss()\n",
        "    optimizer = torch.optim.Adam(model.parameters(), lr=learning_rate)\n",
        "    losses, train_acc, valid_acc = [], [], []\n",
        "    epochs = []\n",
        "    for epoch in range(num_epochs):\n",
        "        for tweets, labels in train:\n",
        "            optimizer.zero_grad()\n",
        "            pred = model(tweets)\n",
        "            loss = criterion(pred, labels)\n",
        "            loss.backward()\n",
        "            optimizer.step()\n",
        "        losses.append(float(loss))\n",
        "\n",
        "        epochs.append(epoch)\n",
        "        train_acc.append(get_accuracy(model, train_loader))\n",
        "        valid_acc.append(get_accuracy(model, valid_loader))\n",
        "        print(\"Epoch %d; Loss %f; Train Acc %f; Val Acc %f\" % (\n",
        "              epoch+1, loss, train_acc[-1], valid_acc[-1]))\n",
        "    # plotting\n",
        "    plt.title(\"Training Curve\")\n",
        "    plt.plot(losses, label=\"Train\")\n",
        "    plt.xlabel(\"Epoch\")\n",
        "    plt.ylabel(\"Loss\")\n",
        "    plt.show()\n",
        "\n",
        "    plt.title(\"Training Curve\")\n",
        "    plt.plot(epochs, train_acc, label=\"Train\")\n",
        "    plt.plot(epochs, valid_acc, label=\"Validation\")\n",
        "    plt.xlabel(\"Epoch\")    \n",
        "    plt.ylabel(\"Accuracy\")\n",
        "    plt.legend(loc='best')\n",
        "    plt.show()"
      ],
      "execution_count": 187,
      "outputs": []
    },
    {
      "cell_type": "code",
      "metadata": {
        "id": "0BDlk9UEwP7l",
        "colab_type": "code",
        "colab": {
          "base_uri": "https://localhost:8080/",
          "height": 1000
        },
        "outputId": "d17d9d7b-f340-4ff1-88b7-9a81e727cb0b"
      },
      "source": [
        "model = TweetRNN(100, 100, 2)\n",
        "train_loader = TweetBatcher(train, batch_size=500, drop_last=True)\n",
        "valid_loader = TweetBatcher(valid, batch_size=500, drop_last=False)\n",
        "train_rnn_network(model, train_loader, valid_loader, num_epochs=40, learning_rate=.0005)\n",
        "get_accuracy(model, test_loader)\n"
      ],
      "execution_count": 188,
      "outputs": [
        {
          "output_type": "stream",
          "text": [
            "Epoch 1; Loss 0.611741; Train Acc 0.698667; Val Acc 0.692801\n",
            "Epoch 2; Loss 0.487703; Train Acc 0.736424; Val Acc 0.732877\n",
            "Epoch 3; Loss 0.505993; Train Acc 0.752424; Val Acc 0.752987\n",
            "Epoch 4; Loss 0.504096; Train Acc 0.760364; Val Acc 0.754590\n",
            "Epoch 5; Loss 0.435502; Train Acc 0.761333; Val Acc 0.759108\n",
            "Epoch 6; Loss 0.493080; Train Acc 0.766121; Val Acc 0.755902\n",
            "Epoch 7; Loss 0.445877; Train Acc 0.769212; Val Acc 0.756776\n",
            "Epoch 8; Loss 0.485047; Train Acc 0.772121; Val Acc 0.760857\n",
            "Epoch 9; Loss 0.435109; Train Acc 0.774242; Val Acc 0.761731\n",
            "Epoch 10; Loss 0.487947; Train Acc 0.779697; Val Acc 0.762023\n",
            "Epoch 11; Loss 0.422161; Train Acc 0.777333; Val Acc 0.763189\n",
            "Epoch 12; Loss 0.433963; Train Acc 0.783394; Val Acc 0.766395\n",
            "Epoch 13; Loss 0.499875; Train Acc 0.783636; Val Acc 0.769018\n",
            "Epoch 14; Loss 0.455101; Train Acc 0.785333; Val Acc 0.764063\n",
            "Epoch 15; Loss 0.424007; Train Acc 0.786242; Val Acc 0.769601\n",
            "Epoch 16; Loss 0.462335; Train Acc 0.790788; Val Acc 0.769164\n",
            "Epoch 17; Loss 0.467839; Train Acc 0.791152; Val Acc 0.770184\n",
            "Epoch 18; Loss 0.400913; Train Acc 0.793212; Val Acc 0.767852\n",
            "Epoch 19; Loss 0.453003; Train Acc 0.790364; Val Acc 0.767123\n",
            "Epoch 20; Loss 0.425160; Train Acc 0.796061; Val Acc 0.770912\n",
            "Epoch 21; Loss 0.429966; Train Acc 0.799697; Val Acc 0.768726\n",
            "Epoch 22; Loss 0.398672; Train Acc 0.800970; Val Acc 0.769309\n",
            "Epoch 23; Loss 0.383594; Train Acc 0.801152; Val Acc 0.771495\n",
            "Epoch 24; Loss 0.378209; Train Acc 0.803697; Val Acc 0.773535\n",
            "Epoch 25; Loss 0.403017; Train Acc 0.809636; Val Acc 0.773244\n",
            "Epoch 26; Loss 0.419428; Train Acc 0.811697; Val Acc 0.775138\n",
            "Epoch 27; Loss 0.382702; Train Acc 0.815212; Val Acc 0.777470\n",
            "Epoch 28; Loss 0.407467; Train Acc 0.816727; Val Acc 0.773973\n",
            "Epoch 29; Loss 0.416450; Train Acc 0.812545; Val Acc 0.767560\n",
            "Epoch 30; Loss 0.449304; Train Acc 0.821030; Val Acc 0.770475\n",
            "Epoch 31; Loss 0.373288; Train Acc 0.823697; Val Acc 0.772224\n",
            "Epoch 32; Loss 0.347499; Train Acc 0.825333; Val Acc 0.768726\n",
            "Epoch 33; Loss 0.369635; Train Acc 0.831273; Val Acc 0.770767\n",
            "Epoch 34; Loss 0.335401; Train Acc 0.824061; Val Acc 0.763043\n",
            "Epoch 35; Loss 0.354872; Train Acc 0.806485; Val Acc 0.749198\n",
            "Epoch 36; Loss 0.410179; Train Acc 0.839455; Val Acc 0.770329\n",
            "Epoch 37; Loss 0.338068; Train Acc 0.840727; Val Acc 0.767415\n",
            "Epoch 38; Loss 0.343684; Train Acc 0.843212; Val Acc 0.766686\n",
            "Epoch 39; Loss 0.359173; Train Acc 0.844303; Val Acc 0.762314\n",
            "Epoch 40; Loss 0.360086; Train Acc 0.848303; Val Acc 0.761586\n"
          ],
          "name": "stdout"
        },
        {
          "output_type": "display_data",
          "data": {
            "image/png": "[encoded data removed]",
            "text/plain": [
              "<Figure size 432x288 with 1 Axes>"
            ]
          },
          "metadata": {
            "tags": [],
            "needs_background": "light"
          }
        },
        {
          "output_type": "display_data",
          "data": {
            "image/png": "[encoded data removed]",
            "text/plain": [
              "<Figure size 432x288 with 1 Axes>"
            ]
          },
          "metadata": {
            "tags": [],
            "needs_background": "light"
          }
        },
        {
          "output_type": "execute_result",
          "data": {
            "text/plain": [
              "0.7627044392523364"
            ]
          },
          "metadata": {
            "tags": []
          },
          "execution_count": 188
        }
      ]
    },
    {
      "cell_type": "markdown",
      "metadata": {
        "id": "A9U_3F8cYwb1",
        "colab_type": "text"
      },
      "source": [
        "The final accuracy that was achieved after playing around with several hyperparameters(model architecture, GRU vs LSTM vs RNN, learning rate etc) was 76%."
      ]
    },
    {
      "cell_type": "markdown",
      "metadata": {
        "id": "PBhByAJMJeqp",
        "colab_type": "text"
      },
      "source": [
        "#Best Model and Final testing"
      ]
    },
    {
      "cell_type": "markdown",
      "metadata": {
        "id": "4ic39VImZBlv",
        "colab_type": "text"
      },
      "source": [
        "The best model that gave the highest test score was the logistic regression model. This was not suprising since neural networks need a lot of data. Below I have followed the same data processing steps for the test set as I did for the training set but have not included all the intermediate steps in the dataframe and cv file."
      ]
    },
    {
      "cell_type": "code",
      "metadata": {
        "id": "I3pn3Al0ZRoo",
        "colab_type": "code",
        "colab": {}
      },
      "source": [
        "data_to_load = files.upload()\n",
        "df = pd.read_csv(io.BytesIO(data_to_load['contestant_judgment.csv']))"
      ],
      "execution_count": null,
      "outputs": []
    },
    {
      "cell_type": "code",
      "metadata": {
        "id": "HtY1QhkUrj5S",
        "colab_type": "code",
        "colab": {}
      },
      "source": [
        "nlp = spacy.load('en_core_web_sm') \n",
        "  \n",
        "df['Text'] = df['Text']\n",
        "def NER(sentence):\n",
        "  doc = nlp(sentence) \n",
        "  #sentence = sentence.split()\n",
        "  for ent in doc.ents: \n",
        "    # Removing names, countries, money, nationalities \n",
        "    if(ent.label_==\"PERSON\" or  ent.label==\"GPE\" or ent.label==\"MONEY\" or ent.label==\"NORP\" or ent.label==\"LOC\" or ent.label==\"ORG\" ):\n",
        "      sentence = sentence.replace(str(ent),\"\")  \n",
        "  return sentence\n",
        "\n",
        "size = len(df['ID'])\n",
        "for i in range(size):\n",
        "  df['Text'][i]=NER(df['Text'][i])"
      ],
      "execution_count": null,
      "outputs": []
    },
    {
      "cell_type": "code",
      "metadata": {
        "id": "9wGigXglr4Jc",
        "colab_type": "code",
        "colab": {}
      },
      "source": [
        "\n",
        "df['Text'] = df['Text'].apply(lambda x: \" \".join(word.lower() for word in x.split()))"
      ],
      "execution_count": null,
      "outputs": []
    },
    {
      "cell_type": "code",
      "metadata": {
        "id": "L1knY-AxsZga",
        "colab_type": "code",
        "colab": {}
      },
      "source": [
        "df['Text'] = df['Text'].apply(lambda x: \" \".join(x for x in x.split() if x not in stop_words))"
      ],
      "execution_count": null,
      "outputs": []
    },
    {
      "cell_type": "code",
      "metadata": {
        "id": "7QsFcrfGsKH_",
        "colab_type": "code",
        "colab": {}
      },
      "source": [
        "import contractions\n",
        "\n",
        "df['Text']=df['Text'].apply(lambda x : filter(None,x.split(\" \")))\n",
        "df['Text']=df['Text'].apply(lambda x : [contractions.fix(y) for y in x])\n",
        "df['Text']=df['Text'].apply(lambda x : \" \".join(x))"
      ],
      "execution_count": null,
      "outputs": []
    },
    {
      "cell_type": "code",
      "metadata": {
        "id": "gcG8_YUYsmhG",
        "colab_type": "code",
        "colab": {}
      },
      "source": [
        "df['Text'] = df['Text'].apply(lambda x: [y.lemma_ for y in  nlp(x)])\n",
        "df['lemmas'] = df['lemma'].apply(lambda x : \" \".join(x))"
      ],
      "execution_count": null,
      "outputs": []
    },
    {
      "cell_type": "code",
      "metadata": {
        "id": "qo7vT2sjaQV-",
        "colab_type": "code",
        "colab": {}
      },
      "source": [
        "final_test = df.Text\n",
        "final_reviews = cv.transform(final_test)"
      ],
      "execution_count": null,
      "outputs": []
    },
    {
      "cell_type": "code",
      "metadata": {
        "id": "IJOpnwvvbIUI",
        "colab_type": "code",
        "colab": {}
      },
      "source": [
        "\n",
        "lr_bow_predict = lr.predict(final_reviews)\n"
      ],
      "execution_count": null,
      "outputs": []
    },
    {
      "cell_type": "code",
      "metadata": {
        "id": "R9aRrNBvusYq",
        "colab_type": "code",
        "colab": {}
      },
      "source": [
        "# add the sentiment column with the sentiment predictions from the model\n",
        "df.insert(3 , \"sentiment\", lr_bow_predict)"
      ],
      "execution_count": null,
      "outputs": []
    },
    {
      "cell_type": "code",
      "metadata": {
        "id": "8ziS_SXLuznA",
        "colab_type": "code",
        "colab": {}
      },
      "source": [
        "df.to_csv('final2.csv', index=False, header=True)"
      ],
      "execution_count": null,
      "outputs": []
    }
  ]
}